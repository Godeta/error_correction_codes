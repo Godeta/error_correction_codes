{
 "cells": [
  {
   "cell_type": "code",
   "execution_count": 17,
   "metadata": {},
   "outputs": [],
   "source": [
    "#imports\n",
    "import numpy as np\n",
    "import random\n",
    "from functools import reduce"
   ]
  },
  {
   "cell_type": "code",
   "execution_count": 18,
   "metadata": {},
   "outputs": [],
   "source": [
    "# parity check\n",
    "def isEvenParity(l):\n",
    "    s = 0\n",
    "    for x in l:\n",
    "        s += x\n",
    "    if (s % 2 == 0):\n",
    "        return True\n",
    "    else:\n",
    "        return False"
   ]
  },
  {
   "cell_type": "code",
   "execution_count": 19,
   "metadata": {},
   "outputs": [],
   "source": [
    "# setup hamming 16 bits matrix\n",
    "def createHamming16bits(m):\n",
    "    # definition de variable utiles\n",
    "    firstParity = [0, 1, 3, 4, 6, 8, 10]\n",
    "    secondParity = [0, 2, 3, 5, 6, 9, 10]\n",
    "    thirdParity = [1, 2, 3, 7, 8, 9, 10]\n",
    "    fourthParity = [4, 5, 6, 7, 8, 9, 10]\n",
    "    # création de la matrice\n",
    "    matrixHamming = m.copy()\n",
    "    # parité 1\n",
    "    l = [matrixHamming[i] for i in range(len(matrixHamming)) if i in firstParity]\n",
    "    p1 = 0 if isEvenParity(l) else 1\n",
    "    # parité 2\n",
    "    l = [matrixHamming[i] for i in range(len(matrixHamming)) if i in secondParity]\n",
    "    p2 = 0 if isEvenParity(l) else 1\n",
    "    # parité 3\n",
    "    l = [matrixHamming[i] for i in range(len(matrixHamming)) if i in thirdParity]\n",
    "    p3 = 0 if isEvenParity(l) else 1\n",
    "    # parité 4\n",
    "    l = [matrixHamming[i] for i in range(len(matrixHamming)) if i in fourthParity]\n",
    "    p4 = 0 if isEvenParity(l) else 1\n",
    "    matrixHamming.insert(0, p1)\n",
    "    matrixHamming.insert(1, p2)\n",
    "    matrixHamming.insert(3, p3)\n",
    "    matrixHamming.insert(7, p4)\n",
    "    # parité totale\n",
    "    pt = 0 if isEvenParity(matrixHamming) else 1\n",
    "    matrixHamming.insert(0, pt)\n",
    "    return matrixHamming"
   ]
  },
  {
   "cell_type": "code",
   "execution_count": 20,
   "metadata": {},
   "outputs": [],
   "source": [
    "#check Parity in Hamming matrix\n",
    "def isValidHamming16bits(m):\n",
    "    if (len(m) != 16):\n",
    "        return False\n",
    "    if (reduce(lambda x, y : x + y, [m[i] for i in range(len(m)) if i in [1, 5, 9, 13, 3, 7, 11, 15]]) % 2 != 0):\n",
    "     return False\n",
    "    if (reduce(lambda x, y : x + y, [m[i] for i in range(len(m)) if i in [2, 3, 6, 7, 10, 11, 14, 15]]) % 2 != 0):\n",
    "     return False\n",
    "    if (reduce(lambda x, y : x + y, [m[i] for i in range(len(m)) if i in [4, 5, 6, 7, 12, 13, 14, 15]]) % 2 != 0):\n",
    "     return False\n",
    "    if (reduce(lambda x, y : x + y, [m[i] for i in range(len(m)) if i in [8, 9, 10, 11, 12, 13, 14, 15]]) % 2 != 0):\n",
    "     return False\n",
    "    return True"
   ]
  },
  {
   "cell_type": "code",
   "execution_count": 21,
   "metadata": {
    "tags": []
   },
   "outputs": [],
   "source": [
    "# Read File\n",
    "byteFile = []\n",
    "filePath = \"img.jpg\"\n",
    "with open(filePath, \"rb\") as f:\n",
    "    byte = f.read(1)\n",
    "    while byte != b\"\":\n",
    "        byteFile.append(byte)\n",
    "        byte = f.read(1)"
   ]
  },
  {
   "cell_type": "code",
   "execution_count": 22,
   "metadata": {},
   "outputs": [],
   "source": [
    "# convert bytes to bits\n",
    "binFile = []\n",
    "for b in byteFile:\n",
    "    i = int.from_bytes(b, byteorder='big', signed=False)\n",
    "    for x in [int(x) for x in bin(i)[2:]]:\n",
    "        binFile.append(x)"
   ]
  },
  {
   "cell_type": "code",
   "execution_count": 23,
   "metadata": {
    "tags": []
   },
   "outputs": [],
   "source": [
    "# converting to Hamming\n",
    "arrayHamming = []\n",
    "n = 0\n",
    "matrixHamming = []\n",
    "for binValue in binFile:\n",
    "    if (len(matrixHamming) == 11):\n",
    "        arrayHamming.append(createHamming16bits(matrixHamming))\n",
    "        # reset matrix\n",
    "        matrixHamming = []\n",
    "    matrixHamming.append(binValue)"
   ]
  },
  {
   "cell_type": "code",
   "execution_count": 24,
   "metadata": {},
   "outputs": [],
   "source": [
    "# missing bits setup\n",
    "missingBits = 11 - len(matrixHamming)\n",
    "for i in range(missingBits):\n",
    "        matrixHamming.append(0)\n",
    "arrayHamming.append(createHamming16bits(matrixHamming))"
   ]
  },
  {
   "cell_type": "code",
   "execution_count": 25,
   "metadata": {},
   "outputs": [],
   "source": [
    "# ajout missing bits\n",
    "binValue = [int(x) for x in bin(i)[2:]]\n",
    "for i in range(11 - len(binValue)):\n",
    "    binValue.insert(0, 0)\n",
    "matrixHamming = binValue\n",
    "arrayHamming.append(createHamming16bits(matrixHamming))"
   ]
  },
  {
   "cell_type": "code",
   "execution_count": 26,
   "metadata": {
    "tags": []
   },
   "outputs": [],
   "source": [
    "# shifting bits data sent to limit error on single hamming matrix\n",
    "sentData = []\n",
    "for i in range(16):\n",
    "    for x in arrayHamming:\n",
    "        sentData.append(x[i])"
   ]
  },
  {
   "cell_type": "code",
   "execution_count": 27,
   "metadata": {},
   "outputs": [
    {
     "name": "stdout",
     "output_type": "stream",
     "text": [
      "138255\n"
     ]
    }
   ],
   "source": [
    "# introducing noise\n",
    "onlyError = sentData.copy()\n",
    "# index\n",
    "onlyErrorIndex = random.randint(0, len(sentData) - 1)\n",
    "print(onlyErrorIndex)\n",
    "# introducing error\n",
    "onlyError[onlyErrorIndex] = not onlyError[onlyErrorIndex]"
   ]
  },
  {
   "cell_type": "code",
   "execution_count": 28,
   "metadata": {
    "tags": []
   },
   "outputs": [],
   "source": [
    "# trad to hamming\n",
    "rcv = []\n",
    "for i in range(len(sentData) // 16):\n",
    "    rcv.append([])\n",
    "for i in range(len(onlyError)):\n",
    "    rcv[i%(len(rcv))].append(onlyError[i])"
   ]
  },
  {
   "cell_type": "code",
   "execution_count": 29,
   "metadata": {},
   "outputs": [
    {
     "name": "stdout",
     "output_type": "stream",
     "text": [
      "error matrice 56010\n",
      "1\n"
     ]
    }
   ],
   "source": [
    "# detection erreur\n",
    "n = 0\n",
    "for matrix in rcv:\n",
    "    ValidParity = reduce(lambda x, y : y + x, matrix) % 2 == 0\n",
    "    if (not ValidParity):\n",
    "        xorRes = reduce(operator.xor, [i for i , bit in enumerate(matrix) if bit])\n",
    "        print(\"error matrice {:d}\".format(n))\n",
    "        print(xorRes)\n",
    "    else :\n",
    "        if (not isValidHamming16bits(matrix)):\n",
    "            print(\"Deux erreurs dans la matrice {:n}\".format(n))\n",
    "    n += 1"
   ]
  },
  {
   "cell_type": "code",
   "execution_count": 30,
   "metadata": {},
   "outputs": [
    {
     "name": "stdout",
     "output_type": "stream",
     "text": [
      "(592496, 3)\n"
     ]
    }
   ],
   "source": [
    "# introducing noise\n",
    "multipleError = sentData.copy()\n",
    "# index\n",
    "errorTuple = (random.randint(0, len(sentData) - 10), random.randint(2, 9))\n",
    "# introducing errors\n",
    "for x in range(errorTuple[1]):\n",
    "    multipleError[errorTuple[0] + x] = not multipleError[errorTuple[0] + x]\n",
    "print(errorTuple)"
   ]
  },
  {
   "cell_type": "code",
   "execution_count": 31,
   "metadata": {},
   "outputs": [],
   "source": [
    "# trad to hamming\n",
    "rcv = []\n",
    "for i in range(len(sentData) // 16):\n",
    "    rcv.append([])\n",
    "for i in range(len(multipleError)):\n",
    "    rcv[i%(len(rcv))].append(multipleError[i])"
   ]
  },
  {
   "cell_type": "code",
   "execution_count": 32,
   "metadata": {},
   "outputs": [
    {
     "name": "stdout",
     "output_type": "stream",
     "text": [
      "error matrice 16781\n",
      "7\n",
      "error matrice 16782\n",
      "7\n",
      "error matrice 16783\n",
      "7\n"
     ]
    }
   ],
   "source": [
    "# detection erreur\n",
    "n = 0\n",
    "for matrix in rcv:\n",
    "    ValidParity = reduce(lambda x, y : y + x, matrix) % 2 == 0\n",
    "    if (not ValidParity):\n",
    "        xorRes = reduce(operator.xor, [i for i , bit in enumerate(matrix) if bit])\n",
    "        print(\"error matrice {:d}\".format(n))\n",
    "        print(xorRes)\n",
    "    else :\n",
    "        if (not isValidHamming16bits(matrix)):\n",
    "            print(\"Deux erreurs dans la matrice {:n}\".format(n))\n",
    "    n += 1"
   ]
  },
  {
   "cell_type": "code",
   "execution_count": null,
   "metadata": {},
   "outputs": [],
   "source": []
  }
 ],
 "metadata": {
  "kernelspec": {
   "display_name": "SageMath 9.1",
   "language": "sage",
   "name": "sagemath"
  },
  "language_info": {
   "codemirror_mode": {
    "name": "ipython",
    "version": 3
   },
   "file_extension": ".py",
   "mimetype": "text/x-python",
   "name": "python",
   "nbconvert_exporter": "python",
   "pygments_lexer": "ipython3",
   "version": "3.7.3"
  }
 },
 "nbformat": 4,
 "nbformat_minor": 2
}
