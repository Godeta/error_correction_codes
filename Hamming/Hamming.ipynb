{
 "cells": [
  {
   "cell_type": "code",
   "execution_count": 50,
   "metadata": {},
   "outputs": [],
   "source": [
    "# imports\n",
    "import numpy as np\n",
    "from functools import reduce"
   ]
  },
  {
   "cell_type": "code",
   "execution_count": 51,
   "metadata": {},
   "outputs": [],
   "source": [
    "# init values\n",
    "bits = np.random.randint(0,2,16) # création de notre set de 16 bits\n",
    "oneBitsPos = [i for i , bit in enumerate(bits) if ( bit and i != 0)] # liste des positions des bits égaux a 1 sauf le bit de parité"
   ]
  },
  {
   "cell_type": "code",
   "execution_count": null,
   "metadata": {},
   "outputs": [],
   "source": []
  },
  {
   "cell_type": "code",
   "execution_count": 52,
   "metadata": {
    "tags": []
   },
   "outputs": [
    {
     "output_type": "stream",
     "name": "stdout",
     "text": [
      "il y a une erreur sur le bit 14\n"
     ]
    }
   ],
   "source": [
    "if (len(oneBitsPos) % 2 == bits[0]) : # verification du bit de parité\n",
    "    # application du xor sur toutes les positions de bits égaux a 1\n",
    "    # nous permet de recuperer la position d'une erreur simple\n",
    "    # ( 0 induit qu'il n'y a pas d'erreur )\n",
    "    detection = reduce(operator.xor, oneBitsPos)\n",
    "    if (detection == 0) :\n",
    "        print(\"il y a au moins deux erreurs\")\n",
    "    else : # affichage de l'emplacement du bits d'erreur\n",
    "        print(\"il y a une erreur sur le bit {:d}\".format(detection))\n",
    "else : print(\"il n'y a pas d'erreur de parité\")\n"
   ]
  },
  {
   "cell_type": "code",
   "execution_count": 53,
   "metadata": {},
   "outputs": [
    {
     "output_type": "stream",
     "name": "stdout",
     "text": [
      "matrice\n[1 1 0 1 0 0 0 0 1 0 0 1 1 1 1 0]\nbit == 1\n[1, 3, 8, 11, 12, 13, 14]\n"
     ]
    }
   ],
   "source": [
    "# affichage\n",
    "print(\"matrice\")\n",
    "print(bits)\n",
    "print(\"bit == 1\")\n",
    "print(oneBitsPos)"
   ]
  }
 ],
 "metadata": {
  "kernelspec": {
   "display_name": "SageMath 8.1",
   "language": "python",
   "name": "sagemath"
  },
  "language_info": {
   "codemirror_mode": {
    "name": "ipython",
    "version": 3
   },
   "file_extension": ".py",
   "mimetype": "text/x-python",
   "name": "python",
   "nbconvert_exporter": "python",
   "pygments_lexer": "ipython3",
   "version": "3.6.9-final"
  }
 },
 "nbformat": 4,
 "nbformat_minor": 4
}