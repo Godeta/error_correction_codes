{
 "cells": [
  {
   "cell_type": "code",
   "execution_count": 1,
   "metadata": {},
   "outputs": [],
   "source": [
    "\"\"\"\n",
    "Implementation simple de la detection d'erreurs avec le code de Hamming\n",
    "on va travailler ici avec une matrice de 16bits générée aléatoirement\n",
    "( on aura donc a la fois les situations d'erreurs et sans erreurs )\n",
    "dans cette matrice il y a un bit de parité totale ainsi que 4 bits \n",
    "couvrant les paritées de portions de la matrice ( Cf compte rendu )\n",
    "\"\"\"\n",
    "# imports\n",
    "import numpy as np\n",
    "from functools import reduce"
   ]
  },
  {
   "cell_type": "code",
   "execution_count": 2,
   "metadata": {},
   "outputs": [],
   "source": [
    "# init values\n",
    "bits = np.random.randint(0,2,16) # création de notre set de 16 bits\n",
    "oneBitsPos = [i for i , bit in enumerate(bits) if bit ] # liste des positions des bits égaux a 1"
   ]
  },
  {
   "cell_type": "code",
   "execution_count": 3,
   "metadata": {
    "tags": []
   },
   "outputs": [
    {
     "name": "stdout",
     "output_type": "stream",
     "text": [
      "il y a une erreur sur le bit numero : 1\n"
     ]
    }
   ],
   "source": [
    "if (reduce(lambda x, y: y + x, bits) % 2 != 0) : # verification du bit de parité\n",
    "    # application du xor sur toutes les positions de bits égaux a 1\n",
    "    # nous permet de recuperer la position d'une erreur simple\n",
    "    # ( 0 induit qu'il n'y a pas d'erreur )\n",
    "    detection = reduce(operator.xor, oneBitsPos)\n",
    "    if (detection == 0) :\n",
    "        print(\"il y a au moins deux erreurs\")\n",
    "    else : # affichage de l'emplacement du bits d'erreur\n",
    "        print(\"il y a une erreur sur le bit numero : {:d}\".format(detection))\n",
    "else : print(\"il n'y a pas d'erreur de parité\")\n"
   ]
  },
  {
   "cell_type": "code",
   "execution_count": 4,
   "metadata": {},
   "outputs": [
    {
     "name": "stdout",
     "output_type": "stream",
     "text": [
      "matrice\n",
      "[0 0 0 0 1 1 0 1 1 0 0 0 0 0 0 1]\n",
      "bit == 1\n",
      "[4, 5, 7, 8, 15]\n"
     ]
    }
   ],
   "source": [
    "# affichage\n",
    "print(\"matrice\")\n",
    "print(bits)\n",
    "print(\"bit == 1\")\n",
    "print(oneBitsPos)"
   ]
  }
 ],
 "metadata": {
  "kernelspec": {
   "display_name": "SageMath 9.0",
   "language": "sage",
   "name": "sagemath"
  },
  "language_info": {
   "codemirror_mode": {
    "name": "ipython",
    "version": 3
   },
   "file_extension": ".py",
   "mimetype": "text/x-python",
   "name": "python",
   "nbconvert_exporter": "python",
   "pygments_lexer": "ipython3",
   "version": "3.8.5"
  }
 },
 "nbformat": 4,
 "nbformat_minor": 4
}
