{
 "metadata": {
  "language_info": {
   "codemirror_mode": {
    "name": "ipython",
    "version": 3
   },
   "file_extension": ".py",
   "mimetype": "text/x-python",
   "name": "python",
   "nbconvert_exporter": "python",
   "pygments_lexer": "ipython3",
   "version": "3.8.5-final"
  },
  "orig_nbformat": 2,
  "kernelspec": {
   "name": "python38564bitb44827afab0d480abee85e61e7b657a1",
   "display_name": "Python 3.8.5 64-bit",
   "language": "python"
  }
 },
 "nbformat": 4,
 "nbformat_minor": 2,
 "cells": [
  {
   "cell_type": "code",
   "execution_count": 64,
   "metadata": {},
   "outputs": [],
   "source": [
    "# imports\n",
    "import random\n",
    "import numpy as np"
   ]
  },
  {
   "cell_type": "code",
   "execution_count": 75,
   "metadata": {},
   "outputs": [
    {
     "output_type": "stream",
     "name": "stdout",
     "text": [
      "[0 0 1 0]\ntaille : 4\n"
     ]
    }
   ],
   "source": [
    "# generation du message\n",
    "message = [random.randint(0, 1) for i in range(4)]\n",
    "print(np.array([message[i] for i in range(len(message))]))\n",
    "print(\"taille : {:d}\".format(len(message)))"
   ]
  },
  {
   "cell_type": "code",
   "execution_count": 66,
   "metadata": {},
   "outputs": [
    {
     "output_type": "stream",
     "name": "stdout",
     "text": [
      "7\n"
     ]
    }
   ],
   "source": [
    "# fonctions utiles\n",
    "def is_prime(num):\n",
    "    if num == 0 or num == 1:\n",
    "        return False\n",
    "    for x in range(2, num):\n",
    "        if num % x == 0:\n",
    "            return False\n",
    "    else:\n",
    "        return True\n",
    "\n",
    "def generatePrimeAbove(n):\n",
    "    n += 1\n",
    "    while (not is_prime(n)):\n",
    "        n+=1\n",
    "    return n\n",
    "\n",
    "# definition de la taille du message de reedSolomon\n",
    "size = generatePrimeAbove(len(message) + 1)\n",
    "print(size)"
   ]
  },
  {
   "cell_type": "code",
   "execution_count": 67,
   "metadata": {},
   "outputs": [
    {
     "output_type": "stream",
     "name": "stdout",
     "text": [
      "Polynome x^0 + x^1 + x^3\n[1, 1, 0, 1]\n"
     ]
    }
   ],
   "source": [
    "# generation du polynome generateur\n",
    "class Polynome:\n",
    "    def __init__(self, degrees):\n",
    "        degrees.sort()\n",
    "        self.degrees = degrees.copy()\n",
    "    def getMaxDegree(self):\n",
    "        return self.degrees[-1][1]\n",
    "    def getValueDegree(self, n):\n",
    "        for i in range(len(self.degrees)):\n",
    "            if (i > len(self.degrees) - 1) :\n",
    "                return 0\n",
    "            elif (n == self.degrees[i][1]) :\n",
    "                return self.degrees[i][0]\n",
    "        return 0\n",
    "    def getDegrees(self):\n",
    "        d = []\n",
    "        for i in range(self.getMaxDegree() + 1):\n",
    "            d.append(self.getValueDegree(i))\n",
    "        return d\n",
    "    def __repr__(self):\n",
    "        s = \"Polynome \"\n",
    "        first = True\n",
    "        for d in self.degrees:\n",
    "            if (first):\n",
    "                first = not first\n",
    "            else :\n",
    "                s += \" + \"\n",
    "            s += (str(d[0]) if d[0] != 1 else \"\") + \"x^\" + str(d[1])\n",
    "        return s\n",
    "\n",
    "g = Polynome([(1, 0), (1, 1), (1, 3)])\n",
    "\n",
    "print(g)\n",
    "print(g.getDegrees())"
   ]
  },
  {
   "cell_type": "code",
   "execution_count": 68,
   "metadata": {},
   "outputs": [
    {
     "output_type": "stream",
     "name": "stdout",
     "text": [
      "[[1 1 0 1 0 0 0]\n [0 1 1 0 1 0 0]\n [0 0 1 1 0 1 0]\n [0 0 0 1 1 0 1]]\n"
     ]
    }
   ],
   "source": [
    "# generation matrice generatrice\n",
    "G = []\n",
    "for i in range(len(message)):\n",
    "    G.append([])\n",
    "    for j in range(size - g.getMaxDegree()):\n",
    "        if (i == j):\n",
    "            for bit in g.getDegrees():\n",
    "                G[i].append(bit)\n",
    "        else :\n",
    "            G[i].append(0)\n",
    "G = np.array(G)\n",
    "print(G)"
   ]
  },
  {
   "cell_type": "code",
   "execution_count": 71,
   "metadata": {},
   "outputs": [
    {
     "output_type": "error",
     "ename": "ValueError",
     "evalue": "shapes (4,7) and (4,) not aligned: 7 (dim 1) != 4 (dim 0)",
     "traceback": [
      "\u001b[0;31m---------------------------------------------------------------------------\u001b[0m",
      "\u001b[0;31mValueError\u001b[0m                                Traceback (most recent call last)",
      "\u001b[0;32m<ipython-input-71-47fe632e6aab>\u001b[0m in \u001b[0;36m<module>\u001b[0;34m\u001b[0m\n\u001b[1;32m      1\u001b[0m \u001b[0;31m# encodeage\u001b[0m\u001b[0;34m\u001b[0m\u001b[0;34m\u001b[0m\u001b[0;34m\u001b[0m\u001b[0m\n\u001b[0;32m----> 2\u001b[0;31m \u001b[0mencoded\u001b[0m \u001b[0;34m=\u001b[0m \u001b[0mnp\u001b[0m\u001b[0;34m.\u001b[0m\u001b[0mdot\u001b[0m\u001b[0;34m(\u001b[0m\u001b[0mG\u001b[0m\u001b[0;34m,\u001b[0m \u001b[0mnp\u001b[0m\u001b[0;34m.\u001b[0m\u001b[0marray\u001b[0m\u001b[0;34m(\u001b[0m\u001b[0;34m[\u001b[0m\u001b[0mmessage\u001b[0m\u001b[0;34m[\u001b[0m\u001b[0mi\u001b[0m\u001b[0;34m]\u001b[0m \u001b[0;32mfor\u001b[0m \u001b[0mi\u001b[0m \u001b[0;32min\u001b[0m \u001b[0mrange\u001b[0m\u001b[0;34m(\u001b[0m\u001b[0mlen\u001b[0m\u001b[0;34m(\u001b[0m\u001b[0mmessage\u001b[0m\u001b[0;34m)\u001b[0m\u001b[0;34m)\u001b[0m\u001b[0;34m]\u001b[0m\u001b[0;34m)\u001b[0m\u001b[0;34m)\u001b[0m\u001b[0;34m\u001b[0m\u001b[0;34m\u001b[0m\u001b[0m\n\u001b[0m\u001b[1;32m      3\u001b[0m \u001b[0mprint\u001b[0m\u001b[0;34m(\u001b[0m\u001b[0mencoded\u001b[0m\u001b[0;34m)\u001b[0m\u001b[0;34m\u001b[0m\u001b[0;34m\u001b[0m\u001b[0m\n",
      "\u001b[0;32m<__array_function__ internals>\u001b[0m in \u001b[0;36mdot\u001b[0;34m(*args, **kwargs)\u001b[0m\n",
      "\u001b[0;31mValueError\u001b[0m: shapes (4,7) and (4,) not aligned: 7 (dim 1) != 4 (dim 0)"
     ]
    }
   ],
   "source": [
    "# encodeage\n",
    "encoded = np.dot(G, np.array([message[i] for i in range(len(message))]))\n",
    "print(encoded)"
   ]
  },
  {
   "cell_type": "code",
   "execution_count": null,
   "metadata": {},
   "outputs": [],
   "source": []
  }
 ]
}