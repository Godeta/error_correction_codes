{
 "cells": [
  {
   "cell_type": "markdown",
   "metadata": {},
   "source": [
    "# Code Reed-Solomon\n",
    "\n",
    "Source utiles : https://en.wikiversity.org/wiki/Reed%E2%80%93Solomon_codes_for_coders#Reed%E2%80%93Solomon_codes\n",
    "https://www.tutorialspoint.com/error-correcting-codes-reed-solomon-codes"
   ]
  },
  {
   "cell_type": "markdown",
   "metadata": {},
   "source": [
    "### Qu'est ce ?\n",
    "Les codes de Reed-Solomon sont un groupe de codes correcteurs d'erreur particulièrement efficaces. Ils sont notamment utilisés pour :\n",
    "\n",
    "* Les zones de stockage comme les CDs, DVDs, disques Blu-ray (si il y a une rayure, données éronnées à corriger)\n",
    "\n",
    "* Des technologies de transmission de données haut débit comme DSL et WiMAX \n",
    "\n",
    "* Les modems haute vitesse\n",
    "\n",
    "* Les QR Codes\n",
    "\n",
    "* Des systèmes de diffusion comme des satellites de communication\n",
    "\n",
    "* Les systèmes de stockage comme RAID 6 \n",
    "\n",
    "### L'intéret ?\n",
    "On a déjà le code de Hamming qui est un code parfait on ne peut donc pas faire mieux ! Oui et non. Le code de Hamming permet de détecter une erreur occasionelle (par exemple sur 16 bits y a t'il une erreur ? Oui -> on la corrige) mais si il y a plusieurs erreurs successives on ne peut plus toutes les corrigées voire pire, on ne les détecte plus. Dans une situation concrète, si l'on souhaite lire une musique sur un CD, une rayure pourrai fausser plusieurs bits successifs : (image)\n",
    "\n",
    "C'est là qu'interviennent les codes correcteurs de Reed-Solomon."
   ]
  },
  {
   "cell_type": "markdown",
   "metadata": {},
   "source": [
    "### Comment ça marche ?\n",
    "\n",
    "#### Géneration d'un polynôme pour le code de Reed Solomon\n",
    "\n",
    "\n",
    "#### Encodage \n",
    "\n",
    "\n",
    "#### Decodage\n",
    "\n",
    "#### Sources\n",
    "https://www.backblaze.com/blog/reed-solomon/"
   ]
  },
  {
   "cell_type": "code",
   "execution_count": 2,
   "metadata": {},
   "outputs": [
    {
     "name": "stdout",
     "output_type": "stream",
     "text": [
      "Requirement already up-to-date: unireedsolomon in /opt/sagemath-9.1/local/lib/python3.7/site-packages (1.0.2)\r\n"
     ]
    }
   ],
   "source": [
    "# Installation de la librarie pour faire du Reed-Solomon\n",
    "import sys\n",
    "!{sys.executable} -m pip install --upgrade unireedsolomon"
   ]
  },
  {
   "cell_type": "code",
   "execution_count": 2,
   "metadata": {},
   "outputs": [
    {
     "name": "stdout",
     "output_type": "stream",
     "text": [
      "'Bonjour, Stéphane (:H\\x1aL\\x1b¾\\\\ñD\\x0fH'\n",
      "'\\x00\\x00\\x00jour, Stéphane (:H\\x1aL\\x1b¾\\\\ñD\\x0fH'\n"
     ]
    },
    {
     "data": {
      "text/plain": [
       "('Bonjour, Stéphane (:', 'H\\x1aL\\x1b¾\\\\ñD\\x0fH')"
      ]
     },
     "execution_count": 2,
     "metadata": {},
     "output_type": "execute_result"
    }
   ],
   "source": [
    "# Exemple d'utilisation\n",
    "import unireedsolomon as rs\n",
    "# 13 octets d'information pour un code de 20 au total\n",
    "coder = rs.RSCoder(30,20)\n",
    "# coder = rs.RSCoder(255,223) -> fonctionne aussi mais on va avoir 203 octets de 0\n",
    "c = coder.encode(\"Bonjour, Stéphane (:\")\n",
    "# affiche notre code -> le message puis 10 octets\n",
    "print (repr(c))\n",
    "\n",
    "\n",
    "# on reprend notre mot encodé et on remplace les 3 premières lettres par \\0 donc null\n",
    "r = \"\\0\"*3 + c[3:]\n",
    "print (repr(r))\n",
    "# lors du décodage il trouve et corrige les erreurs sur les 3 premiers octets\n",
    "coder.decode(r)"
   ]
  },
  {
   "cell_type": "code",
   "execution_count": 8,
   "metadata": {},
   "outputs": [
    {
     "data": {
      "text/plain": [
       "[285,\n",
       " 299,\n",
       " 301,\n",
       " 333,\n",
       " 351,\n",
       " 355,\n",
       " 357,\n",
       " 361,\n",
       " 369,\n",
       " 391,\n",
       " 397,\n",
       " 425,\n",
       " 451,\n",
       " 463,\n",
       " 487,\n",
       " 501]"
      ]
     },
     "execution_count": 8,
     "metadata": {},
     "output_type": "execute_result"
    }
   ],
   "source": [
    "# Génère les polynomes primitifs correspondant au champ de Galois/ corps fini de GF(generator^c_exp) ici GF(2^12)\n",
    "# le GF peut par exemple correspondre aux nombres de bits accordés à un symbole, pour des charactères codés sur 8 bits \n",
    "# par exemple on choisira GF(2^8), ensuite pour 285 par exemple cela correspond à 100011101 donc au polynome :\n",
    "# x^0 + x^4 + x^5 + x^6 + x^8 qui est un polynome irreductible \n",
    "rs.ff.find_prime_polynomials(generator=2, c_exp=8, fast_primes=False, single=False)"
   ]
  },
  {
   "cell_type": "code",
   "execution_count": null,
   "metadata": {},
   "outputs": [],
   "source": []
  }
 ],
 "metadata": {
  "kernelspec": {
   "display_name": "SageMath 9.1",
   "language": "sage",
   "name": "sagemath"
  },
  "language_info": {
   "codemirror_mode": {
    "name": "ipython",
    "version": 3
   },
   "file_extension": ".py",
   "mimetype": "text/x-python",
   "name": "python",
   "nbconvert_exporter": "python",
   "pygments_lexer": "ipython3",
   "version": "3.7.3"
  }
 },
 "nbformat": 4,
 "nbformat_minor": 2
}
