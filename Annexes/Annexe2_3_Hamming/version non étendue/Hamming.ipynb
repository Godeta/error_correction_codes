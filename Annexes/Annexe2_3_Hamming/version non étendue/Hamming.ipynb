{
 "metadata": {
  "language_info": {
   "codemirror_mode": {
    "name": "ipython",
    "version": 3
   },
   "file_extension": ".py",
   "mimetype": "text/x-python",
   "name": "python",
   "nbconvert_exporter": "python",
   "pygments_lexer": "ipython3",
   "version": "3.8.5-final"
  },
  "orig_nbformat": 2,
  "kernelspec": {
   "name": "python38564bit2f7e2a295c7e42f0ad35e2b572266058",
   "display_name": "Python 3.8.5 64-bit",
   "language": "python"
  }
 },
 "nbformat": 4,
 "nbformat_minor": 2,
 "cells": [
  {
   "cell_type": "code",
   "execution_count": 518,
   "metadata": {},
   "outputs": [],
   "source": [
    "# imports\n",
    "import numpy as np\n",
    "import random"
   ]
  },
  {
   "cell_type": "code",
   "execution_count": 519,
   "metadata": {},
   "outputs": [],
   "source": [
    "# nombre de bits a coder\n",
    "n = 4\n",
    "# nombre de bits de corrections d'erreur\n",
    "nC = 3"
   ]
  },
  {
   "cell_type": "code",
   "execution_count": 520,
   "metadata": {},
   "outputs": [
    {
     "output_type": "stream",
     "name": "stdout",
     "text": [
      "[[1 0 0 0]\n [0 1 0 0]\n [0 0 1 0]\n [0 0 0 1]]\n"
     ]
    }
   ],
   "source": [
    "# base cannonique de matrice a n bits\n",
    "bases = []\n",
    "for i in range(n):\n",
    "    bases.append([1 if j == i else 0 for j in range(n)])\n",
    "bases = np.array(bases)\n",
    "print(bases)"
   ]
  },
  {
   "cell_type": "code",
   "execution_count": 521,
   "metadata": {},
   "outputs": [],
   "source": [
    "# endcodage forme : p1, p2, d1, p3, d2, d3 et d4\n",
    "# p1 => d1, d2, d4\n",
    "# p2 => d1, d3, d4\n",
    "# p3 => d2, d3, d4\n",
    "def hamming7_4(message):\n",
    "    p1 = 1 if (message[0] + message[1] + message[3]) % 2 == 1 else 0\n",
    "    p2 = 1 if (message[0] + message[2] + message[3]) % 2 == 1 else 0\n",
    "    p3 = 1 if (message[1] + message[2] + message[3]) % 2 == 1 else 0\n",
    "    return [p1, p2, message[0], p3, message[1], message[2], message[3]]"
   ]
  },
  {
   "cell_type": "code",
   "execution_count": 522,
   "metadata": {},
   "outputs": [
    {
     "output_type": "stream",
     "name": "stdout",
     "text": [
      "[[1 1 0 1]\n [1 0 1 1]\n [1 0 0 0]\n [0 1 1 1]\n [0 1 0 0]\n [0 0 1 0]\n [0 0 0 1]]\n"
     ]
    }
   ],
   "source": [
    "# création de la matrice generatrice\n",
    "temp = [hamming7_4(base) for base in bases]\n",
    "G = [[0 for j in range(len(temp))] for i in range(len(temp[0]))]\n",
    "for i in range(len(temp)):\n",
    "    for j in range(len(temp[0])):\n",
    "        G[j][i] = temp[i][j]\n",
    "G = np.array(G)\n",
    "print(G)"
   ]
  },
  {
   "cell_type": "code",
   "execution_count": 523,
   "metadata": {},
   "outputs": [
    {
     "output_type": "stream",
     "name": "stdout",
     "text": [
      "[[0 0 0 1 1 1 1]\n [0 1 1 0 0 1 1]\n [1 0 1 0 1 0 1]]\n"
     ]
    }
   ],
   "source": [
    "# création de la matrice de controle\n",
    "# on veut 3 bits de corrections d'erreurs donc 3 vecteurs tel que e1, e2 et e3 annulent G\n",
    "# ainsi on a la matrice suivante\n",
    "C = np.array([[0, 0, 0, 1, 1, 1, 1], [0, 1, 1, 0, 0, 1, 1], [1, 0, 1, 0, 1, 0, 1]])\n",
    "print(C)"
   ]
  },
  {
   "cell_type": "code",
   "execution_count": 524,
   "metadata": {},
   "outputs": [
    {
     "output_type": "stream",
     "name": "stdout",
     "text": [
      "[[1]\n [1]\n [0]\n [1]]\n"
     ]
    }
   ],
   "source": [
    "# generation d'un message\n",
    "message = np.array([[random.randint(0, 1)] for i in range(4)])\n",
    "print(message)"
   ]
  },
  {
   "cell_type": "code",
   "execution_count": 525,
   "metadata": {},
   "outputs": [
    {
     "output_type": "stream",
     "name": "stdout",
     "text": [
      "[[1]\n [0]\n [1]\n [0]\n [1]\n [0]\n [1]]\n"
     ]
    }
   ],
   "source": [
    "# encodage message\n",
    "messageHamming = np.dot(G, message)\n",
    "for i in range(len(messageHamming)):\n",
    "    messageHamming[i][0] = messageHamming[i][0] % 2\n",
    "print(messageHamming)"
   ]
  },
  {
   "cell_type": "code",
   "execution_count": 526,
   "metadata": {},
   "outputs": [
    {
     "output_type": "stream",
     "name": "stdout",
     "text": [
      "[[0]\n [0]\n [0]]\n"
     ]
    }
   ],
   "source": [
    "# verification d'erreur\n",
    "verif = np.dot(C, messageHamming.copy())\n",
    "for i in range(len(verif)):\n",
    "    verif[i][0] = verif[i][0] % 2\n",
    "print(verif)"
   ]
  },
  {
   "cell_type": "code",
   "execution_count": 527,
   "metadata": {},
   "outputs": [
    {
     "output_type": "stream",
     "name": "stdout",
     "text": [
      "Erreur insérée au rang 0\nResultat multiplication de la la matrice de controle et du message ( en binaire ) 001 => 0 (position de l'erreur)\n"
     ]
    }
   ],
   "source": [
    "# ajout d'erreur et modification\n",
    "indexE = random.randint(0, len(messageHamming) - 1)\n",
    "messageHamming[indexE][0] = messageHamming[indexE][0] + 1 % 2\n",
    "print(\"Erreur insérée au rang {:d}\".format(indexE))\n",
    "# verification d'erreur\n",
    "verif = np.dot(C, messageHamming.copy())\n",
    "for i in range(len(verif)):\n",
    "    verif[i][0] = verif[i][0] % 2\n",
    "binValue = \"\"\n",
    "for x in verif:\n",
    "    binValue += str(x[0])\n",
    "indexE = 0\n",
    "for i in range(len(verif)):\n",
    "    indexE += 2**(2 - i) if verif[i] else 0\n",
    "print(\"Resultat multiplication de la la matrice de controle et du message ( en binaire ) {:s} => {:d} (position de l'erreur)\".format(binValue, indexE - 1))"
   ]
  }
 ]
}