{
 "cells": [
  {
   "cell_type": "markdown",
   "metadata": {},
   "source": [
    "# Code Reed-Solomon\n",
    "\n",
    "Source utiles : https://en.wikiversity.org/wiki/Reed%E2%80%93Solomon_codes_for_coders#Reed%E2%80%93Solomon_codes\n",
    "https://www.tutorialspoint.com/error-correcting-codes-reed-solomon-codes"
   ]
  },
  {
   "cell_type": "markdown",
   "metadata": {},
   "source": [
    "### Qu'est ce ?\n",
    "Les codes de Reed-Solomon sont un groupe de codes correcteurs d'erreur particulièrement efficaces. Ils sont notamment utilisés pour :\n",
    "\n",
    "* Les zones de stockage comme les CDs, DVDs, disques Blu-ray (si il y a une rayure, données éronnées à corriger)\n",
    "\n",
    "* Des technologies de transmission de données haut débit comme DSL et WiMAX \n",
    "\n",
    "* Les modems haute vitesse\n",
    "\n",
    "* Les QR Codes\n",
    "\n",
    "* Des systèmes de diffusion comme des satellites de communication\n",
    "\n",
    "* Les systèmes de stockage comme RAID 6 "
   ]
  },
  {
   "cell_type": "markdown",
   "metadata": {},
   "source": [
    "### Comment ça marche ?\n",
    "\n",
    "#### Géneration d'un polynôme pour le code de Reed Solomon\n",
    "\n",
    "\n",
    "#### Encodage \n",
    "\n",
    "\n",
    "#### Decodage"
   ]
  },
  {
   "cell_type": "code",
   "execution_count": null,
   "metadata": {},
   "outputs": [],
   "source": []
  }
 ],
 "metadata": {
  "kernelspec": {
   "display_name": "SageMath 9.1",
   "language": "sage",
   "name": "sagemath"
  },
  "language_info": {
   "codemirror_mode": {
    "name": "ipython",
    "version": 3
   },
   "file_extension": ".py",
   "mimetype": "text/x-python",
   "name": "python",
   "nbconvert_exporter": "python",
   "pygments_lexer": "ipython3",
   "version": "3.7.3"
  }
 },
 "nbformat": 4,
 "nbformat_minor": 2
}
