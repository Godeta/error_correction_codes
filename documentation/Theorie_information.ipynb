{
 "cells": [
  {
   "cell_type": "markdown",
   "metadata": {},
   "source": [
    "# Théorie de l'information\n",
    "\n",
    "C'est un champ d'études concernant la quantification, le stockage et la communication d'informations. Les branches principales de cette théorie sont : \n",
    "le codage de l'information ;\n",
    "la mesure quantitative de redondance d'un texte ;\n",
    "la compression de données ;\n",
    "la cryptographie.\n",
    "\n",
    "### théorie des codes \n",
    "\n",
    "### codes linéaires\n",
    "\n",
    "### codes cycliques\n",
    "\n",
    "### codes BCH\n",
    "\n",
    "### code de Reed-Solomon\n",
    "C'est un sous ensemble des codes BCH, ce type de code correcteur est nottamment utilisé dans les CDs.\n",
    "Voir le document jupyter associé pour plus d'informations."
   ]
  }
 ],
 "metadata": {
  "kernelspec": {
   "display_name": "SageMath 9.1",
   "language": "sage",
   "name": "sagemath"
  },
  "language_info": {
   "codemirror_mode": {
    "name": "ipython",
    "version": 3
   },
   "file_extension": ".py",
   "mimetype": "text/x-python",
   "name": "python",
   "nbconvert_exporter": "python",
   "pygments_lexer": "ipython3",
   "version": "3.7.3"
  }
 },
 "nbformat": 4,
 "nbformat_minor": 2
}
