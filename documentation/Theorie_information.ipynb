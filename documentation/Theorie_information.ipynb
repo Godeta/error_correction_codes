{
 "cells": [
  {
   "cell_type": "markdown",
   "metadata": {},
   "source": [
    "# Théorie de l'information\n",
    "\n",
    "C'est un champ d'études concernant la quantification, le stockage et la communication d'informations. Les branches principales de cette théorie sont : \n",
    "le codage de l'information ;\n",
    "la mesure quantitative de redondance d'un texte ;\n",
    "la compression de données ;\n",
    "la cryptographie.\n",
    "\n",
    "### théorie des codes \n",
    "Tout ce qui touche à la transmission de données binaires (voire trinaires ou q-aires), un code est caractérisé par une certaine quantité de bits d'informations et une quantité de bits de controle, pour pouvoir trouver et corriger les erreurs. Un code à donc une distance de Hamming minimale (nombre de bits differents entre 2 mots codés, par exemple entre 00110 et 10001 la distance est de 4) et un rendement (nombre de bits d'information/nombre de bits total).\n",
    "\n",
    "Prenons un exemple : on décide de coder des blocs de 2 bits ainsi -> on écrit les 2 bits, puis leur inverse puis 0 si les 2 bits de bases sont pair ou 1 sinon\n",
    "Donc 4 possibilitées :\n",
    "\n",
    "| bits d'information | code   |\n",
    "|------|------|\n",
    "|   00  | 00110|\n",
    "|   01  | 01101|\n",
    "|   10  | 10011|\n",
    "|   11  | 11000|\n",
    "\n",
    "La distance de hamming minimale est 3, on peut le voir simplement avec ce tableau :\n",
    "\n",
    "|codes | 00110| 01101|10011|11000|\n",
    "|------|------|------|------|------|\n",
    "|00110 |   0  | 3| 3  | 4|\n",
    "|01101 |   3  | 0| 4  | 3|\n",
    "|10011 |   3  | 4| 0  | 3|\n",
    "|11000 |   4  | 3| 3  | 0|\n",
    "\n",
    "Le rendement est de 2/5.\n",
    "Imaginons maintenant que l'on reçoit le message R = 10001, on est certain qu'il y a au moins une erreur car ce n'est pas un des 4 mots possibles. \n",
    "\n",
    "### codes linéaires\n",
    "Un code est linéaire si l'addition de ses informations puis son codage est équivalent à l'addition des informations codées. Prenons le code plus haut pour l'exemple : si on additionne 00 et 01 on obtient 01, une fois codé on a donc le message 01101.\n",
    "Par contre si on prend le code de 00 -> 00110 et de 01 -> 01101 l'addition ne donne pas 01101. Donc ce n'est pas un code linéaire. Ici notre exemple est loin d'être une méthode optimale, il existe des codes dit \"parfait\" comme le code de Hamming, ils n'ont donc aucune redondance inutile c'est à dire que l'on ne peut pas faire de meilleur rendement. (voir documenet jupyter sur le code de Hamming).\n",
    "\n",
    "### codes cycliques\n",
    "\n",
    "### codes BCH\n",
    "\n",
    "### code de Reed-Solomon\n",
    "C'est un sous ensemble des codes BCH, ce type de code correcteur est nottamment utilisé dans les CDs.\n",
    "Voir le document jupyter associé pour plus d'informations."
   ]
  },
  {
   "cell_type": "markdown",
   "metadata": {},
   "source": [
    "### Sources :\n",
    "codes correcteurs linéaire https://youtu.be/dYrH5Cbcn6M\n",
    "Explications simple sur les codes correcteurs d'erreurs : https://youtu.be/q-3BctoUpHE"
   ]
  }
 ],
 "metadata": {
  "kernelspec": {
   "display_name": "SageMath 9.1",
   "language": "sage",
   "name": "sagemath"
  },
  "language_info": {
   "codemirror_mode": {
    "name": "ipython",
    "version": 3
   },
   "file_extension": ".py",
   "mimetype": "text/x-python",
   "name": "python",
   "nbconvert_exporter": "python",
   "pygments_lexer": "ipython3",
   "version": "3.7.3"
  }
 },
 "nbformat": 4,
 "nbformat_minor": 2
}
